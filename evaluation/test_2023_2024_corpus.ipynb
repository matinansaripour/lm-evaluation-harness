{
 "cells": [
  {
   "cell_type": "code",
   "execution_count": 1,
   "metadata": {},
   "outputs": [
    {
     "name": "stderr",
     "output_type": "stream",
     "text": [
      "/users/ansaripo/miniconda3/envs/robots/lib/python3.10/site-packages/tqdm/auto.py:21: TqdmWarning: IProgress not found. Please update jupyter and ipywidgets. See https://ipywidgets.readthedocs.io/en/stable/user_install.html\n",
      "  from .autonotebook import tqdm as notebook_tqdm\n"
     ]
    }
   ],
   "source": [
    "import pandas as pd\n",
    "from datasets import load_dataset\n",
    "import json\n",
    "import random"
   ]
  },
  {
   "cell_type": "code",
   "execution_count": 12,
   "metadata": {},
   "outputs": [],
   "source": [
    "par_data = '/iopsstor/scratch/cscs/ansaripo/robots_txt_allnews_contamination-50gram_5/swissai-fineweb-edu-news2324/data/output'\n",
    "data = load_dataset(\"parquet\", data_dir=par_data)['train']\n",
    "data = data.shuffle()\n",
    "data12800 = data.select(range(12800))\n",
    "data1000 = data.select(range(1000))\n",
    "with open(\"/iopsstor/scratch/cscs/ansaripo/robots_txt_allnews_contamination-50gram_5/swissai-fineweb-edu-news2324/12800_news_23_24.jsonl\", \"w\") as f:\n",
    "    for data_ in data12800:\n",
    "        f.write(json.dumps(data_) + \"\\n\")\n",
    "\n",
    "with open(\"/iopsstor/scratch/cscs/ansaripo/robots_txt_allnews_contamination-50gram_5/swissai-fineweb-edu-news2324/1000_news_23_24.jsonl\", \"w\") as f:\n",
    "    for data_ in data1000:\n",
    "        f.write(json.dumps(data_) + \"\\n\")\n"
   ]
  },
  {
   "cell_type": "code",
   "execution_count": 13,
   "metadata": {},
   "outputs": [],
   "source": [
    "folder_path = \"/iopsstor/scratch/cscs/ansaripo/robots_txt_allnews_contamination-50gram_5/swissai-fineweb-edu-news2324/12800_news_23_24.jsonl\"\n",
    "\n",
    "data = []\n",
    "with open(folder_path, \"r\") as f:\n",
    "    for line in f:\n",
    "        tmp = json.loads(line)\n",
    "        if len(tmp['text']) > 512:\n",
    "            data.append(tmp)\n",
    "\n",
    "data1000_mcq = data[:1000]\n",
    "\n",
    "with open(\"/iopsstor/scratch/cscs/ansaripo/robots_txt_allnews_contamination-50gram_5/swissai-fineweb-edu-news2324/1000_mcq_news_23_24.jsonl\", \"w\") as f:\n",
    "    for data_ in data1000_mcq:\n",
    "        f.write(json.dumps(data_) + \"\\n\")\n",
    "\n",
    "data1000_mcm = data[1000:2000]\n",
    "\n",
    "with open(\"/iopsstor/scratch/cscs/ansaripo/robots_txt_allnews_contamination-50gram_5/swissai-fineweb-edu-news2324/1000_mcm_news_23_24.jsonl\", \"w\") as f:\n",
    "    for data_ in data1000_mcm:\n",
    "        f.write(json.dumps(data_) + \"\\n\")\n"
   ]
  },
  {
   "cell_type": "code",
   "execution_count": 27,
   "metadata": {},
   "outputs": [],
   "source": [
    "from datasets import Dataset\n",
    "import os\n",
    "\n",
    "folder_path = \"/iopsstor/scratch/cscs/ansaripo/robots_txt_allnews_contamination-50gram_5/swissai-fineweb-edu-news2324/12800_news_23_24.jsonl\"\n",
    "\n",
    "# Set the folder containing the .txt files\n",
    "pre_len = 128\n",
    "dataset_name = f\"news_2023_2024_verbatim_{pre_len}\"\n",
    "\n",
    "# Read text files into a list of dicts\n",
    "data = []\n",
    "# for filename in os.listdir(folder_path):\n",
    "#     if filename.endswith(\".txt\"):\n",
    "#         with open(os.path.join(folder_path, filename), \"r\", encoding=\"utf-8\") as f:\n",
    "#             data.append({\"filename\": filename, \"text\": f.read()})\n",
    "with open(folder_path, \"r\") as f:\n",
    "    for line in f:\n",
    "        data.append(json.loads(line))\n",
    "# Create a Hugging Face Dataset\n",
    "dataset = Dataset.from_list(data)\n",
    "\n"
   ]
  },
  {
   "cell_type": "code",
   "execution_count": 28,
   "metadata": {},
   "outputs": [
    {
     "data": {
      "text/plain": [
       "<Axes: >"
      ]
     },
     "execution_count": 28,
     "metadata": {},
     "output_type": "execute_result"
    },
    {
     "data": {
      "image/png": "[encoded data removed]",
      "text/plain": [
       "<Figure size 640x480 with 1 Axes>"
      ]
     },
     "metadata": {},
     "output_type": "display_data"
    }
   ],
   "source": [
    "dataset.to_pandas()['text'].apply(lambda x: len(x.split())).hist(bins=100)"
   ]
  },
  {
   "cell_type": "code",
   "execution_count": 29,
   "metadata": {},
   "outputs": [],
   "source": [
    "from transformers import AutoTokenizer\n",
    "# get the first 20000 examples\n",
    "# fset = dataset[\"train\"].select(range(12800))\n",
    "fset = dataset\n",
    "tokenizer = AutoTokenizer.from_pretrained('alehc/swissai-tokenizer')"
   ]
  },
  {
   "cell_type": "code",
   "execution_count": 30,
   "metadata": {},
   "outputs": [
    {
     "name": "stderr",
     "output_type": "stream",
     "text": [
      "Map: 100%|██████████| 12800/12800 [00:29<00:00, 427.22 examples/s]\n"
     ]
    }
   ],
   "source": [
    "# from transformers import AutoTokenizer\n",
    "# # get the first 20000 examples\n",
    "# subset = dataset[\"train\"].select(range(12800))\n",
    "# tokenizer = AutoTokenizer.from_pretrained('alehc/swissai-tokenizer')\n",
    "\n",
    "def split_example(examples, input_size=pre_len, max_tokens=4096):\n",
    "    # text = example['text']\n",
    "    # tokens = tokenizer.tokenize(text)\n",
    "    # input = tokenizer.convert_tokens_to_string(tokens[:input_size])\n",
    "    # target = tokenizer.convert_tokens_to_string(tokens[input_size:max_tokens])\n",
    "    # return {'input_text': input, 'target_text': target}\n",
    "    input_texts = []\n",
    "    target_texts = []\n",
    "    \n",
    "    for i, text in enumerate(examples['text']):\n",
    "        tokens = tokenizer.tokenize(text)\n",
    "        input = tokenizer.convert_tokens_to_string(tokens[:input_size])\n",
    "        target = tokenizer.convert_tokens_to_string(tokens[input_size:max_tokens])\n",
    "        input_texts.append(input)\n",
    "        target_texts.append(target)\n",
    "    \n",
    "    return {'input_text': input_texts, 'target_text': target_texts}\n",
    "\n",
    "subset = fset.map(split_example, batched=True)\n"
   ]
  },
  {
   "cell_type": "code",
   "execution_count": 31,
   "metadata": {},
   "outputs": [
    {
     "name": "stderr",
     "output_type": "stream",
     "text": [
      "Filter: 100%|██████████| 12800/12800 [00:00<00:00, 48227.67 examples/s]\n"
     ]
    }
   ],
   "source": [
    "positive_examples = subset.filter(lambda example: len(example['target_text']) != 0)"
   ]
  },
  {
   "cell_type": "code",
   "execution_count": null,
   "metadata": {},
   "outputs": [
    {
     "name": "stderr",
     "output_type": "stream",
     "text": [
      "Creating parquet from Arrow format: 100%|██████████| 13/13 [00:00<00:00, 13.60ba/s]\n",
      "Uploading the dataset shards: 100%|██████████| 1/1 [00:03<00:00,  3.49s/it]\n"
     ]
    },
    {
     "data": {
      "text/plain": [
       "CommitInfo(commit_url='https://huggingface.co/datasets/mansaripo/news_2023_2024_verbatim_128/commit/774f159892ad1deea8967b66152414ece514a66a', commit_message='Upload dataset', commit_description='', oid='774f159892ad1deea8967b66152414ece514a66a', pr_url=None, repo_url=RepoUrl('https://huggingface.co/datasets/mansaripo/news_2023_2024_verbatim_128', endpoint='https://huggingface.co', repo_type='dataset', repo_id='mansaripo/news_2023_2024_verbatim_128'), pr_revision=None, pr_num=None)"
      ]
     },
     "execution_count": 32,
     "metadata": {},
     "output_type": "execute_result"
    }
   ],
   "source": [
    "# push the dataset to the hub\n",
    "from datasets import Dataset, DatasetDict\n",
    "\n",
    "HF_TOKEN=''\n",
    "from huggingface_hub import login\n",
    "login(HF_TOKEN)\n",
    "DatasetDict({'test': positive_examples}).push_to_hub(dataset_name)"
   ]
  },
  {
   "cell_type": "code",
   "execution_count": null,
   "metadata": {},
   "outputs": [],
   "source": []
  }
 ],
 "metadata": {
  "kernelspec": {
   "display_name": "robots",
   "language": "python",
   "name": "python3"
  },
  "language_info": {
   "codemirror_mode": {
    "name": "ipython",
    "version": 3
   },
   "file_extension": ".py",
   "mimetype": "text/x-python",
   "name": "python",
   "nbconvert_exporter": "python",
   "pygments_lexer": "ipython3",
   "version": "3.10.16"
  }
 },
 "nbformat": 4,
 "nbformat_minor": 2
}
