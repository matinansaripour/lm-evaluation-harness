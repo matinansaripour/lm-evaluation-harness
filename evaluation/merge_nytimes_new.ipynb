{
 "cells": [
  {
   "cell_type": "code",
   "execution_count": 1,
   "metadata": {},
   "outputs": [],
   "source": [
    "import json\n",
    "\n",
    "import pandas as pd"
   ]
  },
  {
   "cell_type": "code",
   "execution_count": 6,
   "metadata": {},
   "outputs": [
    {
     "name": "stdout",
     "output_type": "stream",
     "text": [
      "8848 30722\n"
     ]
    }
   ],
   "source": [
    "ista_data = []\n",
    "with open(\"/Users/lsir/lm-evaluation-harness/evaluation/news_23_24_ista.jsonl\", \"r\") as f:\n",
    "    for line in f:\n",
    "        ista_data.append(json.loads(line))\n",
    "\n",
    "swissai_data = []\n",
    "with open(\"/Users/lsir/lm-evaluation-harness/evaluation/news_23_24_swissai.jsonl\", \"r\") as f:\n",
    "    for line in f:\n",
    "        swissai_data.append(json.loads(line))\n",
    "\n",
    "print(len(ista_data), len(swissai_data))"
   ]
  },
  {
   "cell_type": "code",
   "execution_count": 7,
   "metadata": {},
   "outputs": [
    {
     "name": "stdout",
     "output_type": "stream",
     "text": [
      "39143\n"
     ]
    }
   ],
   "source": [
    "id_pool = set()\n",
    "final_data = []\n",
    "\n",
    "for data in ista_data:\n",
    "    if data[\"url\"] not in id_pool:\n",
    "        id_pool.add(data[\"url\"])\n",
    "        final_data.append(data)\n",
    "\n",
    "for data in swissai_data:\n",
    "    if data[\"url\"] not in id_pool:\n",
    "        id_pool.add(data[\"url\"])\n",
    "        final_data.append(data)\n",
    "\n",
    "print(len(final_data))\n",
    "with open(\"/Users/lsir/lm-evaluation-harness/evaluation/news_23_24_final.jsonl\", \"w\") as f:\n",
    "    for data in final_data:\n",
    "        f.write(json.dumps(data) + \"\\n\")\n"
   ]
  },
  {
   "cell_type": "code",
   "execution_count": null,
   "metadata": {},
   "outputs": [],
   "source": []
  }
 ],
 "metadata": {
  "kernelspec": {
   "display_name": "ada_exam_2024",
   "language": "python",
   "name": "python3"
  },
  "language_info": {
   "codemirror_mode": {
    "name": "ipython",
    "version": 3
   },
   "file_extension": ".py",
   "mimetype": "text/x-python",
   "name": "python",
   "nbconvert_exporter": "python",
   "pygments_lexer": "ipython3",
   "version": "3.10.16"
  }
 },
 "nbformat": 4,
 "nbformat_minor": 2
}
