{
 "cells": [
  {
   "cell_type": "code",
   "execution_count": 1,
   "metadata": {},
   "outputs": [
    {
     "name": "stderr",
     "output_type": "stream",
     "text": [
      "/users/ansaripo/miniconda3/envs/robots/lib/python3.10/site-packages/tqdm/auto.py:21: TqdmWarning: IProgress not found. Please update jupyter and ipywidgets. See https://ipywidgets.readthedocs.io/en/stable/user_install.html\n",
      "  from .autonotebook import tqdm as notebook_tqdm\n"
     ]
    }
   ],
   "source": [
    "import numpy as np\n",
    "import pandas as pd\n",
    "import torch\n",
    "from datasets import load_dataset"
   ]
  },
  {
   "cell_type": "code",
   "execution_count": 7,
   "metadata": {},
   "outputs": [
    {
     "name": "stdout",
     "output_type": "stream",
     "text": [
      "As streaming television services continue to gain market share, there are a number of reasons why Netflix might be in trouble. Time Warner is taking its HBO content online, Amazon offers premium content for a monthly fee, and Hulu has reached nine million users. While these competitors may cause a bit of worry, it’s not the end of the world. Although Netflix has a huge amount of potential, the increased competition is unlikely to hurt its profitability.\n",
      "While the global pandemic last year caused a major shakeup in Hollywood, Netflix should not rest on its laurels. With a variety of rivals on the rise, it’s unlikely that it can continue to rely on its current performance. Despite the competition, the company has made a number of impactful moves across the board, including clamping down on password sharing. And in the coming years, Netflix should continue to grow and compete with new competitors.\n",
      "With more competitors entering the streaming space, Netflix is likely to face a more difficult time keeping its current market share. Disney has been investing heavily in the service and Amazon is expected to do the same. Both companies expect to add 35-40 million subscribers per year through 2024. Despite the competition, Netflix still remains the top streaming service. Its lack of original content has hurt its numbers in the last few quarters. Its only big original hit in the US was Cobra Kai, which only got four seasons. \n",
      "Whether or not it gets a second season of The Witcher is another question.\n",
      "Whether or not it gets a second season of Stranger Things is another question.\n",
      "Whether or not it gets a fifth season of The Witcher is another question.\n",
      "Whether or not it gets a second season of Black Mirror is another question.\n"
     ]
    }
   ],
   "source": [
    "data = pd.read_csv('data/news_factor.csv')\n",
    "\n",
    "print(data.loc[0, 'full_prefix'])\n",
    "print(data.loc[0, 'completion'])\n",
    "print(data.loc[0, 'contradiction_0'])\n",
    "print(data.loc[0, 'contradiction_1'])\n",
    "print(data.loc[0, 'contradiction_2'])"
   ]
  },
  {
   "cell_type": "code",
   "execution_count": 1,
   "metadata": {},
   "outputs": [
    {
     "name": "stderr",
     "output_type": "stream",
     "text": [
      "/users/ansaripo/miniconda3/envs/robots/lib/python3.10/site-packages/tqdm/auto.py:21: TqdmWarning: IProgress not found. Please update jupyter and ipywidgets. See https://ipywidgets.readthedocs.io/en/stable/user_install.html\n",
      "  from .autonotebook import tqdm as notebook_tqdm\n"
     ]
    }
   ],
   "source": [
    "import argparse\n",
    "import os\n",
    "\n",
    "import numpy as np\n",
    "import pandas as pd\n",
    "import torch\n",
    "from torch.nn import CrossEntropyLoss\n",
    "from tqdm import tqdm\n",
    "from transformers import AutoConfig, AutoModelForCausalLM, AutoTokenizer\n",
    "\n",
    "# load data\n",
    "def extract_example(row):\n",
    "    return {'full_prefix': row.full_prefix, 'completion': row.completion,\n",
    "            'contradictions': [row.contradiction_0, row.contradiction_1, row.contradiction_2]}\n",
    "\n",
    "\n",
    "def read_data(path, prefix_col):\n",
    "    df = pd.read_csv(path)[[prefix_col, 'doc_id', 'completion', 'contradiction_0', 'contradiction_1', 'contradiction_2']]\n",
    "    df.rename(columns={prefix_col: 'full_prefix'}, inplace=True)\n",
    "    return df.apply(lambda row: extract_example(row), axis=1).to_list()\n",
    "\n",
    "# load model\n",
    "def load_tokenizer(model_name, max_tokens):\n",
    "    tokenizer = AutoTokenizer.from_pretrained(model_name, padding_side='right', truncation_side='left',\n",
    "                                              model_max_length=max_tokens)\n",
    "    tokenizer.pad_token = tokenizer.eos_token\n",
    "    return tokenizer\n",
    "\n",
    "\n",
    "def load_model_and_tokenizer(model_name, cache_dir=None, max_tokens=1024):\n",
    "    device = \"cuda\" if torch.cuda.is_available() else \"cpu\"\n",
    "    multi_gpus = torch.cuda.device_count() > 1\n",
    "    config = AutoConfig.from_pretrained(model_name)\n",
    "    model_args = {}\n",
    "    if cache_dir is not None and device != 'cpu':\n",
    "        model_args[\"cache_dir\"] = cache_dir\n",
    "    if multi_gpus:\n",
    "        model_args[\"device_map\"] = \"auto\"\n",
    "        model_args[\"low_cpu_mem_usage\"] = True\n",
    "    if hasattr(config, \"torch_dtype\") and config.torch_dtype is not None:\n",
    "        model_args[\"torch_dtype\"] = config.torch_dtype\n",
    "\n",
    "    model = AutoModelForCausalLM.from_pretrained(model_name, **model_args).eval()\n",
    "    if not multi_gpus:\n",
    "        model = model.to(device)\n",
    "    tokenizer = load_tokenizer(model_name, max_tokens)\n",
    "    print(model.dtype)\n",
    "    model.config.pad_token_id = model.config.eos_token_id\n",
    "    return model, tokenizer, device\n",
    "\n",
    "# prepare examples for evaluation\n",
    "def format_data(ex):\n",
    "    prefix = ex['full_prefix']\n",
    "    completion = ex['completion']\n",
    "    contradictions = ex['contradictions']\n",
    "\n",
    "    # make sure completion don't contain trailing spaces\n",
    "    completion = completion.lstrip(' ')\n",
    "    contradictions = [cont.lstrip(' ') for cont in contradictions]\n",
    "\n",
    "    # if the prefix ends with a new line, just concatenate.\n",
    "    # Else, add space to the completion, remove it from the prefix if necessary\n",
    "    if prefix.endswith(' '):\n",
    "        prefix = prefix[:-1]\n",
    "        batch = [f\"{prefix} {completion}\"] + [f\"{prefix} {cont}\" for cont in contradictions]\n",
    "        labels_batch = [f\" {completion}\"] + [f\" {cont}\" for cont in contradictions]\n",
    "    else:\n",
    "        batch = [f\"{prefix}{completion}\"] + [f\"{prefix}{cont}\" for cont in contradictions]\n",
    "        labels_batch = [completion] + contradictions\n",
    "    return batch, labels_batch\n",
    "\n",
    "\n",
    "def prep_batch(ex, tokenizer, device):\n",
    "    # prepare examples for tokenization\n",
    "    batch, labels_batch = format_data(ex)\n",
    "    # encode full text (context + completions)\n",
    "    encoding = tokenizer(batch, padding=True, truncation=True, return_tensors='pt', add_special_tokens=False).to(device)\n",
    "    encoding = {k: v.to(device) for k, v in encoding.items()}\n",
    "    input_ids = encoding['input_ids']\n",
    "    # extract labels from input text\n",
    "    labels_encoding = tokenizer(labels_batch, padding=True, truncation=True, return_tensors='pt', add_special_tokens=False).to(device)\n",
    "    input_lens = torch.sum(encoding['attention_mask'], axis=-1).to(device)\n",
    "    target_lens = torch.sum(labels_encoding['attention_mask'], axis=-1).to(device)\n",
    "    offsets = input_lens - target_lens\n",
    "    positions = torch.arange(0, encoding['input_ids'].size(-1))[None, :].to(device)\n",
    "    labels_mask = (positions >= offsets[:, None]) * encoding['attention_mask']\n",
    "\n",
    "    labels = input_ids*labels_mask + (-100)*(1-labels_mask)\n",
    "\n",
    "    # assert all labels match\n",
    "    for input_id, label, target_len, offset, comp in zip(input_ids, labels, target_lens, offsets, labels_batch):\n",
    "        assert torch.all(input_id[offset: offset + target_len].eq(label[offset:offset+target_len])), \"labels don't appear in input ids\"\n",
    "        assert torch.all(label[:offset] == -100), \"labels include redundant prefix\"\n",
    "        assert torch.all(label[offset + target_len:] == -100), \"labels include redundant suffix\"\n",
    "    encoding = {k: v.to(device) for k, v in encoding.items()}\n",
    "    return encoding, labels, target_lens\n",
    "\n",
    "\n",
    "def get_losses(logits, labels):\n",
    "    loss_fct = CrossEntropyLoss(reduction=\"none\")\n",
    "    nll = loss_fct(logits.reshape(-1, logits.size(-1)), labels.reshape(-1)).cpu()\n",
    "    nll = nll.view(labels.size())\n",
    "    return nll\n",
    "\n",
    "\n",
    "def run_eval(model, tokenizer, data, device):\n",
    "    all_scores = torch.empty((len(data), 4))\n",
    "    for i, ex in tqdm(enumerate(data)):\n",
    "        print(ex)\n",
    "        break\n",
    "        input_ids, target, target_lens = prep_batch(ex, tokenizer, device=device)\n",
    "        with torch.no_grad():\n",
    "            out = model(**input_ids)\n",
    "            nll = get_losses(out.logits[..., :-1, :], target[:, 1:])\n",
    "\n",
    "        # get scores for the full the sequence\n",
    "        scores = torch.sum(nll, axis=-1)\n",
    "        scores = scores / target_lens.to('cpu')\n",
    "        all_scores[i] = scores\n",
    "        if i % 100 == 0:\n",
    "            acc = np.sum(np.argmin(np.array(all_scores[:(i+1), :].tolist()), axis=1) == 0) / (i+1)\n",
    "            print(f\"processed: {i+1}/{len(data)} examples. accuracy: {acc}\")\n",
    "    return all_scores\n",
    "\n",
    "\n",
    "def main(args):\n",
    "    prefix_col = 'turncated_prefixes'\n",
    "    data = read_data(args.data_file, prefix_col)\n",
    "    model, tokenizer, device = load_model_and_tokenizer(args.model_name, args.cache_dir, max_tokens=args.max_tokens)\n",
    "    all_scores = run_eval(model, tokenizer, data, device)\n",
    "    data = pd.DataFrame(data)\n",
    "    data['scores'] = list(all_scores.to('cpu').numpy())\n",
    "    acc = np.sum(np.argmin(np.array(data['scores'].to_list()), axis=1) == 0) / len(data)\n",
    "    print(f\"acc = {acc}\")\n",
    "    data.to_json(get_results_path(args.output_folder, args.model_name), lines=True,\n",
    "                 orient='records')\n",
    "    print(\"Done!\")\n",
    "\n",
    "\n",
    "def get_results_path(output_folder, model_name):\n",
    "    return os.path.join(output_folder, model_name.split('/')[-1] + '.jsonl')\n",
    "\n",
    "\n",
    "# if __name__ == \"__main__\":\n",
    "#     parser = argparse.ArgumentParser()\n",
    "\n",
    "#     # Data params\n",
    "#     parser.add_argument('--data_file', required=True, type=str, help=\"csv file\")\n",
    "#     parser.add_argument('--output_folder', required=True, type=str)\n",
    "\n",
    "#     # Model params\n",
    "#     parser.add_argument('--model_name', default='gpt2', type=str)\n",
    "#     parser.add_argument('--max_tokens', type=int, default=1024)\n",
    "\n",
    "#     parser.add_argument(\"--cache_dir\", type=str, default=\"/dev/shm/cache-transformers/\")\n",
    "#     args = parser.parse_args()\n",
    "#     main(args)\n"
   ]
  },
  {
   "cell_type": "code",
   "execution_count": 2,
   "metadata": {},
   "outputs": [
    {
     "name": "stdout",
     "output_type": "stream",
     "text": [
      "torch.float32\n"
     ]
    },
    {
     "name": "stderr",
     "output_type": "stream",
     "text": [
      "0it [00:00, ?it/s]"
     ]
    },
    {
     "name": "stdout",
     "output_type": "stream",
     "text": [
      "{'full_prefix': 'As streaming television services continue to gain market share, there are a number of reasons why Netflix might be in trouble. Time Warner is taking its HBO content online, Amazon offers premium content for a monthly fee, and Hulu has reached nine million users. While these competitors may cause a bit of worry, it’s not the end of the world. Although Netflix has a huge amount of potential, the increased competition is unlikely to hurt its profitability.\\nWhile the global pandemic last year caused a major shakeup in Hollywood, Netflix should not rest on its laurels. With a variety of rivals on the rise, it’s unlikely that it can continue to rely on its current performance. Despite the competition, the company has made a number of impactful moves across the board, including clamping down on password sharing. And in the coming years, Netflix should continue to grow and compete with new competitors.\\nWith more competitors entering the streaming space, Netflix is likely to face a more difficult time keeping its current market share. Disney has been investing heavily in the service and Amazon is expected to do the same. Both companies expect to add 35-40 million subscribers per year through 2024. Despite the competition, Netflix still remains the top streaming service. Its lack of original content has hurt its numbers in the last few quarters. Its only big original hit in the US was Cobra Kai, which only got four seasons. ', 'completion': 'Whether or not it gets a second season of The Witcher is another question.', 'contradictions': ['Whether or not it gets a second season of Stranger Things is another question.', 'Whether or not it gets a fifth season of The Witcher is another question.', 'Whether or not it gets a second season of Black Mirror is another question.']}\n",
      "acc = 0.13416988416988418\n"
     ]
    },
    {
     "name": "stderr",
     "output_type": "stream",
     "text": [
      "\n"
     ]
    },
    {
     "ename": "NameError",
     "evalue": "name 'args' is not defined",
     "output_type": "error",
     "traceback": [
      "\u001b[0;31m---------------------------------------------------------------------------\u001b[0m",
      "\u001b[0;31mNameError\u001b[0m                                 Traceback (most recent call last)",
      "Cell \u001b[0;32mIn[2], line 9\u001b[0m\n\u001b[1;32m      7\u001b[0m acc \u001b[38;5;241m=\u001b[39m np\u001b[38;5;241m.\u001b[39msum(np\u001b[38;5;241m.\u001b[39margmin(np\u001b[38;5;241m.\u001b[39marray(data[\u001b[38;5;124m'\u001b[39m\u001b[38;5;124mscores\u001b[39m\u001b[38;5;124m'\u001b[39m]\u001b[38;5;241m.\u001b[39mto_list()), axis\u001b[38;5;241m=\u001b[39m\u001b[38;5;241m1\u001b[39m) \u001b[38;5;241m==\u001b[39m \u001b[38;5;241m0\u001b[39m) \u001b[38;5;241m/\u001b[39m \u001b[38;5;28mlen\u001b[39m(data)\n\u001b[1;32m      8\u001b[0m \u001b[38;5;28mprint\u001b[39m(\u001b[38;5;124mf\u001b[39m\u001b[38;5;124m\"\u001b[39m\u001b[38;5;124macc = \u001b[39m\u001b[38;5;132;01m{\u001b[39;00macc\u001b[38;5;132;01m}\u001b[39;00m\u001b[38;5;124m\"\u001b[39m)\n\u001b[0;32m----> 9\u001b[0m data\u001b[38;5;241m.\u001b[39mto_json(get_results_path(\u001b[43margs\u001b[49m\u001b[38;5;241m.\u001b[39moutput_folder, args\u001b[38;5;241m.\u001b[39mmodel_name), lines\u001b[38;5;241m=\u001b[39m\u001b[38;5;28;01mTrue\u001b[39;00m,\n\u001b[1;32m     10\u001b[0m                 orient\u001b[38;5;241m=\u001b[39m\u001b[38;5;124m'\u001b[39m\u001b[38;5;124mrecords\u001b[39m\u001b[38;5;124m'\u001b[39m)\n\u001b[1;32m     11\u001b[0m \u001b[38;5;28mprint\u001b[39m(\u001b[38;5;124m\"\u001b[39m\u001b[38;5;124mDone!\u001b[39m\u001b[38;5;124m\"\u001b[39m)\n",
      "\u001b[0;31mNameError\u001b[0m: name 'args' is not defined"
     ]
    }
   ],
   "source": [
    "prefix_col = 'turncated_prefixes'\n",
    "data = read_data('data/news_factor.csv', prefix_col)\n",
    "model, tokenizer, device = load_model_and_tokenizer('gpt2', './cache-transformers/', max_tokens=1024)\n",
    "all_scores = run_eval(model, tokenizer, data, device)\n",
    "data = pd.DataFrame(data)\n",
    "data['scores'] = list(all_scores.to('cpu').numpy())\n",
    "acc = np.sum(np.argmin(np.array(data['scores'].to_list()), axis=1) == 0) / len(data)\n",
    "print(f\"acc = {acc}\")\n",
    "data.to_json(get_results_path(args.output_folder, args.model_name), lines=True,\n",
    "                orient='records')\n",
    "print(\"Done!\")"
   ]
  },
  {
   "cell_type": "code",
   "execution_count": 5,
   "metadata": {},
   "outputs": [
    {
     "data": {
      "text/plain": [
       "{'full_prefix': 'As streaming television services continue to gain market share, there are a number of reasons why Netflix might be in trouble. Time Warner is taking its HBO content online, Amazon offers premium content for a monthly fee, and Hulu has reached nine million users. While these competitors may cause a bit of worry, it’s not the end of the world. Although Netflix has a huge amount of potential, the increased competition is unlikely to hurt its profitability.\\nWhile the global pandemic last year caused a major shakeup in Hollywood, Netflix should not rest on its laurels. With a variety of rivals on the rise, it’s unlikely that it can continue to rely on its current performance. Despite the competition, the company has made a number of impactful moves across the board, including clamping down on password sharing. And in the coming years, Netflix should continue to grow and compete with new competitors.\\nWith more competitors entering the streaming space, Netflix is likely to face a more difficult time keeping its current market share. Disney has been investing heavily in the service and Amazon is expected to do the same. Both companies expect to add 35-40 million subscribers per year through 2024. Despite the competition, Netflix still remains the top streaming service. Its lack of original content has hurt its numbers in the last few quarters. Its only big original hit in the US was Cobra Kai, which only got four seasons. ',\n",
       " 'completion': 'Whether or not it gets a second season of The Witcher is another question.',\n",
       " 'contradictions': ['Whether or not it gets a second season of Stranger Things is another question.',\n",
       "  'Whether or not it gets a fifth season of The Witcher is another question.',\n",
       "  'Whether or not it gets a second season of Black Mirror is another question.']}"
      ]
     },
     "execution_count": 5,
     "metadata": {},
     "output_type": "execute_result"
    }
   ],
   "source": [
    "data[0]"
   ]
  },
  {
   "cell_type": "code",
   "execution_count": null,
   "metadata": {},
   "outputs": [
    {
     "ename": "TypeError",
     "evalue": "list indices must be integers or slices, not str",
     "output_type": "error",
     "traceback": [
      "\u001b[0;31m---------------------------------------------------------------------------\u001b[0m",
      "\u001b[0;31mTypeError\u001b[0m                                 Traceback (most recent call last)",
      "Cell \u001b[0;32mIn[10], line 1\u001b[0m\n\u001b[0;32m----> 1\u001b[0m \u001b[43mprep_batch\u001b[49m\u001b[43m(\u001b[49m\u001b[43m[\u001b[49m\u001b[43mdata\u001b[49m\u001b[43m[\u001b[49m\u001b[38;5;241;43m0\u001b[39;49m\u001b[43m]\u001b[49m\u001b[43m]\u001b[49m\u001b[43m,\u001b[49m\u001b[43m \u001b[49m\u001b[43mtokenizer\u001b[49m\u001b[43m,\u001b[49m\u001b[43m \u001b[49m\u001b[43mdevice\u001b[49m\u001b[43m)\u001b[49m\n\u001b[1;32m      2\u001b[0m \u001b[38;5;66;03m# format_data(data[0])\u001b[39;00m\n",
      "Cell \u001b[0;32mIn[2], line 75\u001b[0m, in \u001b[0;36mprep_batch\u001b[0;34m(ex, tokenizer, device)\u001b[0m\n\u001b[1;32m     73\u001b[0m \u001b[38;5;28;01mdef\u001b[39;00m\u001b[38;5;250m \u001b[39m\u001b[38;5;21mprep_batch\u001b[39m(ex, tokenizer, device):\n\u001b[1;32m     74\u001b[0m     \u001b[38;5;66;03m# prepare examples for tokenization\u001b[39;00m\n\u001b[0;32m---> 75\u001b[0m     batch, labels_batch \u001b[38;5;241m=\u001b[39m \u001b[43mformat_data\u001b[49m\u001b[43m(\u001b[49m\u001b[43mex\u001b[49m\u001b[43m)\u001b[49m\n\u001b[1;32m     76\u001b[0m     \u001b[38;5;66;03m# encode full text (context + completions)\u001b[39;00m\n\u001b[1;32m     77\u001b[0m     encoding \u001b[38;5;241m=\u001b[39m tokenizer(batch, padding\u001b[38;5;241m=\u001b[39m\u001b[38;5;28;01mTrue\u001b[39;00m, truncation\u001b[38;5;241m=\u001b[39m\u001b[38;5;28;01mTrue\u001b[39;00m, return_tensors\u001b[38;5;241m=\u001b[39m\u001b[38;5;124m'\u001b[39m\u001b[38;5;124mpt\u001b[39m\u001b[38;5;124m'\u001b[39m, add_special_tokens\u001b[38;5;241m=\u001b[39m\u001b[38;5;28;01mFalse\u001b[39;00m)\u001b[38;5;241m.\u001b[39mto(device)\n",
      "Cell \u001b[0;32mIn[2], line 53\u001b[0m, in \u001b[0;36mformat_data\u001b[0;34m(ex)\u001b[0m\n\u001b[1;32m     52\u001b[0m \u001b[38;5;28;01mdef\u001b[39;00m\u001b[38;5;250m \u001b[39m\u001b[38;5;21mformat_data\u001b[39m(ex):\n\u001b[0;32m---> 53\u001b[0m     prefix \u001b[38;5;241m=\u001b[39m \u001b[43mex\u001b[49m\u001b[43m[\u001b[49m\u001b[38;5;124;43m'\u001b[39;49m\u001b[38;5;124;43mfull_prefix\u001b[39;49m\u001b[38;5;124;43m'\u001b[39;49m\u001b[43m]\u001b[49m\n\u001b[1;32m     54\u001b[0m     completion \u001b[38;5;241m=\u001b[39m ex[\u001b[38;5;124m'\u001b[39m\u001b[38;5;124mcompletion\u001b[39m\u001b[38;5;124m'\u001b[39m]\n\u001b[1;32m     55\u001b[0m     contradictions \u001b[38;5;241m=\u001b[39m ex[\u001b[38;5;124m'\u001b[39m\u001b[38;5;124mcontradictions\u001b[39m\u001b[38;5;124m'\u001b[39m]\n",
      "\u001b[0;31mTypeError\u001b[0m: list indices must be integers or slices, not str"
     ]
    }
   ],
   "source": [
    "# prep_batch(data[0], tokenizer, device)\n",
    "# format_data(data[0])"
   ]
  },
  {
   "cell_type": "code",
   "execution_count": 17,
   "metadata": {},
   "outputs": [
    {
     "data": {
      "text/plain": [
       "1101006"
      ]
     },
     "execution_count": 17,
     "metadata": {},
     "output_type": "execute_result"
    }
   ],
   "source": [
    "dataset = load_dataset(\"parquet\", data_files=\"/iopsstor/scratch/cscs/dfan/data/robots-txt/RawData-NYTimes/*.parquet\")\n",
    "len(dataset['train'])"
   ]
  },
  {
   "cell_type": "code",
   "execution_count": 4,
   "metadata": {},
   "outputs": [
    {
     "data": {
      "text/plain": [
       "<Axes: >"
      ]
     },
     "execution_count": 4,
     "metadata": {},
     "output_type": "execute_result"
    },
    {
     "data": {
      "image/png": "[encoded data removed]",
      "text/plain": [
       "<Figure size 640x480 with 1 Axes>"
      ]
     },
     "metadata": {},
     "output_type": "display_data"
    }
   ],
   "source": [
    "dataset['train'].to_pandas().loc[:12800, 'text'].apply(lambda x: len(x.split())).hist(bins=100)"
   ]
  },
  {
   "cell_type": "code",
   "execution_count": null,
   "metadata": {},
   "outputs": [
    {
     "data": {
      "text/plain": [
       "text\n",
       "(512.0, 1024.0]      392\n",
       "(256.0, 512.0]       244\n",
       "(1024.0, 2048.0]     156\n",
       "(128.0, 256.0]       141\n",
       "(2048.0, 4096.0]      43\n",
       "(-0.001, 128.0]       20\n",
       "(4096.0, 8192.0]       4\n",
       "(8192.0, 16384.0]      1\n",
       "Name: count, dtype: int64"
      ]
     },
     "execution_count": 7,
     "metadata": {},
     "output_type": "execute_result"
    }
   ],
   "source": [
    "bins = [0, 128, 256, 512, 1024, 2048, 4096, 8192, 16384]\n",
    "pd.cut(dataset['train'].to_pandas().loc[:1000, 'text'].apply(lambda x: len(x.split())), bins=bins, include_lowest=True).value_counts()"
   ]
  },
  {
   "cell_type": "code",
   "execution_count": 18,
   "metadata": {},
   "outputs": [],
   "source": [
    "from transformers import AutoTokenizer\n",
    "# get the first 20000 examples\n",
    "fset = dataset[\"train\"].select(range(12800))\n",
    "tokenizer = AutoTokenizer.from_pretrained('alehc/swissai-tokenizer')"
   ]
  },
  {
   "cell_type": "code",
   "execution_count": 19,
   "metadata": {},
   "outputs": [],
   "source": [
    "# from transformers import AutoTokenizer\n",
    "# # get the first 20000 examples\n",
    "# subset = dataset[\"train\"].select(range(12800))\n",
    "# tokenizer = AutoTokenizer.from_pretrained('alehc/swissai-tokenizer')\n",
    "\n",
    "def split_example(examples, input_size=128, max_tokens=4096):\n",
    "    # text = example['text']\n",
    "    # tokens = tokenizer.tokenize(text)\n",
    "    # input = tokenizer.convert_tokens_to_string(tokens[:input_size])\n",
    "    # target = tokenizer.convert_tokens_to_string(tokens[input_size:max_tokens])\n",
    "    # return {'input_text': input, 'target_text': target}\n",
    "    input_texts = []\n",
    "    target_texts = []\n",
    "    \n",
    "    for i, text in enumerate(examples['text']):\n",
    "        tokens = tokenizer.tokenize(text)\n",
    "        input = tokenizer.convert_tokens_to_string(tokens[:input_size])\n",
    "        target = tokenizer.convert_tokens_to_string(tokens[input_size:max_tokens])\n",
    "        input_texts.append(input)\n",
    "        target_texts.append(target)\n",
    "    \n",
    "    return {'input_text': input_texts, 'target_text': target_texts}\n",
    "\n",
    "subset = fset.map(split_example, batched=True)\n"
   ]
  },
  {
   "cell_type": "code",
   "execution_count": 20,
   "metadata": {},
   "outputs": [],
   "source": [
    "positive_examples = subset.filter(lambda example: len(example['target_text']) != 0)"
   ]
  },
  {
   "cell_type": "code",
   "execution_count": 21,
   "metadata": {},
   "outputs": [
    {
     "data": {
      "text/plain": [
       "Dataset({\n",
       "    features: ['text', 'id', 'metadata', 'input_text', 'target_text'],\n",
       "    num_rows: 12653\n",
       "})"
      ]
     },
     "execution_count": 21,
     "metadata": {},
     "output_type": "execute_result"
    }
   ],
   "source": [
    "positive_examples"
   ]
  },
  {
   "cell_type": "code",
   "execution_count": null,
   "metadata": {},
   "outputs": [
    {
     "name": "stderr",
     "output_type": "stream",
     "text": [
      "Saving the dataset (1/1 shards): 100%|██████████| 12653/12653 [00:00<00:00, 31417.12 examples/s]\n"
     ]
    }
   ],
   "source": [
    "# # save the dataset\n",
    "# positive_examples.save_to_disk('/iopsstor/scratch/cscs/ansaripo/data/nytimes_verbatim')"
   ]
  },
  {
   "cell_type": "code",
   "execution_count": 11,
   "metadata": {},
   "outputs": [
    {
     "name": "stdout",
     "output_type": "stream",
     "text": [
      "/usr/local/bin/bash: transform: command not found\n",
      "Traceback (most recent call last):\n",
      "  File \"/users/ansaripo/miniconda3/envs/robots/bin/transformers-cli\", line 5, in <module>\n",
      "    from transformers.commands.transformers_cli import main\n",
      "  File \"/users/ansaripo/miniconda3/envs/robots/lib/python3.10/site-packages/transformers/commands/transformers_cli.py\", line 20, in <module>\n",
      "    from .chat import ChatCommand\n",
      "  File \"/users/ansaripo/miniconda3/envs/robots/lib/python3.10/site-packages/transformers/commands/chat.py\", line 29, in <module>\n",
      "    from rich.console import Console\n",
      "ModuleNotFoundError: No module named 'rich'\n"
     ]
    }
   ],
   "source": [
    "#login to huggingface\n",
    "!transform\n",
    "!transformers-cli login"
   ]
  },
  {
   "cell_type": "code",
   "execution_count": null,
   "metadata": {},
   "outputs": [],
   "source": [
    "# push the dataset to the hub\n",
    "from datasets import Dataset, DatasetDict\n",
    "\n",
    "from huggingface_hub import login\n",
    "DatasetDict({'test': positive_examples}).push_to_hub('nytimes_verbatim')"
   ]
  },
  {
   "cell_type": "code",
   "execution_count": null,
   "metadata": {},
   "outputs": [],
   "source": [
    "from transformers import AutoModelForCausalLM\n",
    "model = AutoModelForCausalLM.from_pretrained('mistralai/Mistral-Nemo-Base-2407')"
   ]
  },
  {
   "cell_type": "code",
   "execution_count": 24,
   "metadata": {},
   "outputs": [
    {
     "name": "stderr",
     "output_type": "stream",
     "text": [
      "Generating test split: 100%|██████████| 12653/12653 [00:00<00:00, 57455.53 examples/s]\n"
     ]
    },
    {
     "data": {
      "text/plain": [
       "DatasetDict({\n",
       "    test: Dataset({\n",
       "        features: ['text', 'id', 'metadata', 'input_text', 'target_text'],\n",
       "        num_rows: 12653\n",
       "    })\n",
       "})"
      ]
     },
     "execution_count": 24,
     "metadata": {},
     "output_type": "execute_result"
    }
   ],
   "source": [
    "load_dataset(\"mansaripo/nytimes_verbatim\")"
   ]
  },
  {
   "cell_type": "code",
   "execution_count": 25,
   "metadata": {},
   "outputs": [
    {
     "name": "stderr",
     "output_type": "stream",
     "text": [
      "Generating test split: 100%|██████████| 4358/4358 [00:00<00:00, 389689.52 examples/s]\n",
      "Generating train split: 100%|██████████| 36718/36718 [00:00<00:00, 984481.98 examples/s]\n",
      "Generating validation split: 100%|██████████| 3760/3760 [00:00<00:00, 434678.84 examples/s]\n"
     ]
    },
    {
     "data": {
      "text/plain": [
       "DatasetDict({\n",
       "    test: Dataset({\n",
       "        features: ['text'],\n",
       "        num_rows: 4358\n",
       "    })\n",
       "    train: Dataset({\n",
       "        features: ['text'],\n",
       "        num_rows: 36718\n",
       "    })\n",
       "    validation: Dataset({\n",
       "        features: ['text'],\n",
       "        num_rows: 3760\n",
       "    })\n",
       "})"
      ]
     },
     "execution_count": 25,
     "metadata": {},
     "output_type": "execute_result"
    }
   ],
   "source": [
    "load_dataset(\"wikitext\", \"wikitext-2-raw-v1\")"
   ]
  },
  {
   "cell_type": "code",
   "execution_count": 12,
   "metadata": {},
   "outputs": [],
   "source": [
    "import json\n",
    "from datasets import Dataset, DatasetDict\n",
    "\n",
    "data_json = \"/iopsstor/scratch/cscs/ansaripo/deepseek_questions.json\"\n",
    "questions = json.load(open(data_json, \"r\"))\n",
    "\n",
    "qs = []\n",
    "for q in questions:\n",
    "    qs.append(q['generated_question'])\n",
    "\n",
    "# convert to hf dataset\n",
    "dataset = Dataset.from_list(qs)"
   ]
  },
  {
   "cell_type": "code",
   "execution_count": 13,
   "metadata": {},
   "outputs": [
    {
     "name": "stderr",
     "output_type": "stream",
     "text": [
      "Creating parquet from Arrow format: 100%|██████████| 1/1 [00:00<00:00, 455.01ba/s]\n",
      "Uploading the dataset shards: 100%|██████████| 1/1 [00:00<00:00,  1.26it/s]\n"
     ]
    },
    {
     "data": {
      "text/plain": [
       "CommitInfo(commit_url='https://huggingface.co/datasets/mansaripo/nytimes_completion/commit/3c76a1cfe47d093647fb4945618e307c9356d84e', commit_message='Upload dataset', commit_description='', oid='3c76a1cfe47d093647fb4945618e307c9356d84e', pr_url=None, repo_url=RepoUrl('https://huggingface.co/datasets/mansaripo/nytimes_completion', endpoint='https://huggingface.co', repo_type='dataset', repo_id='mansaripo/nytimes_completion'), pr_revision=None, pr_num=None)"
      ]
     },
     "execution_count": 13,
     "metadata": {},
     "output_type": "execute_result"
    }
   ],
   "source": [
    "DatasetDict({'test': dataset}).push_to_hub('nytimes_completion')"
   ]
  },
  {
   "cell_type": "code",
   "execution_count": null,
   "metadata": {},
   "outputs": [],
   "source": [
    "DatasetDict({'test': Dataset.from_list([q['generated_question'] for q in questions])}).push_to_hub('nytimes_completion')"
   ]
  },
  {
   "cell_type": "code",
   "execution_count": null,
   "metadata": {},
   "outputs": [],
   "source": []
  }
 ],
 "metadata": {
  "kernelspec": {
   "display_name": "robots",
   "language": "python",
   "name": "python3"
  },
  "language_info": {
   "codemirror_mode": {
    "name": "ipython",
    "version": 3
   },
   "file_extension": ".py",
   "mimetype": "text/x-python",
   "name": "python",
   "nbconvert_exporter": "python",
   "pygments_lexer": "ipython3",
   "version": "3.10.16"
  }
 },
 "nbformat": 4,
 "nbformat_minor": 2
}
