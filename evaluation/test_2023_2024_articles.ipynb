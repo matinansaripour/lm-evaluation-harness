{
 "cells": [
  {
   "cell_type": "code",
   "execution_count": 2,
   "metadata": {},
   "outputs": [],
   "source": [
    "import pandas as pd\n",
    "from datasets import load_dataset\n",
    "import json\n",
    "import random"
   ]
  },
  {
   "cell_type": "code",
   "execution_count": 4,
   "metadata": {},
   "outputs": [],
   "source": [
    "folder_path = \"/Users/lsir/lm-evaluation-harness/evaluation/news_23_24_final.jsonl\"\n",
    "\n",
    "data = []\n",
    "with open(folder_path, \"r\") as f:\n",
    "    for line in f:\n",
    "        data.append(json.loads(line))\n",
    "\n",
    "random.shuffle(data)\n",
    "\n",
    "data12800 = data[:12800]\n",
    "\n",
    "data1000 = data[:1000]\n",
    "\n",
    "with open(\"/Users/lsir/lm-evaluation-harness/evaluation/12800_news_23_24.jsonl\", \"w\") as f:\n",
    "    for data in data12800:\n",
    "        f.write(json.dumps(data) + \"\\n\")\n",
    "\n",
    "with open(\"/Users/lsir/lm-evaluation-harness/evaluation/1000_news_23_24.jsonl\", \"w\") as f:\n",
    "    for data in data1000:\n",
    "        f.write(json.dumps(data) + \"\\n\")\n"
   ]
  },
  {
   "cell_type": "code",
   "execution_count": 21,
   "metadata": {},
   "outputs": [],
   "source": [
    "folder_path = \"/Users/lsir/lm-evaluation-harness/evaluation/12800_news_23_24.jsonl\"\n",
    "\n",
    "data = []\n",
    "with open(folder_path, \"r\") as f:\n",
    "    for line in f:\n",
    "        tmp = json.loads(line)\n",
    "        if len(tmp['text']) > 512:\n",
    "            data.append(tmp)\n",
    "\n",
    "data1000_mcq = data[:1000]\n",
    "\n",
    "with open(\"/Users/lsir/lm-evaluation-harness/evaluation/1000_mcq_news_23_24.jsonl\", \"w\") as f:\n",
    "    for data_ in data1000_mcq:\n",
    "        f.write(json.dumps(data_) + \"\\n\")\n",
    "\n",
    "data1000_mcm = data[1000:2000]\n",
    "\n",
    "with open(\"/Users/lsir/lm-evaluation-harness/evaluation/1000_mcm_news_23_24.jsonl\", \"w\") as f:\n",
    "    for data_ in data1000_mcm:\n",
    "        f.write(json.dumps(data_) + \"\\n\")\n"
   ]
  },
  {
   "cell_type": "code",
   "execution_count": 14,
   "metadata": {},
   "outputs": [],
   "source": [
    "from datasets import Dataset\n",
    "import os\n",
    "\n",
    "folder_path = \"/Users/lsir/lm-evaluation-harness/evaluation/12800_news_23_24.jsonl\"\n",
    "\n",
    "# Set the folder containing the .txt files\n",
    "dataset_name = \"nytimes_2023_2024_verbatim_512\"\n",
    "pre_len = 512\n",
    "\n",
    "# Read text files into a list of dicts\n",
    "data = []\n",
    "# for filename in os.listdir(folder_path):\n",
    "#     if filename.endswith(\".txt\"):\n",
    "#         with open(os.path.join(folder_path, filename), \"r\", encoding=\"utf-8\") as f:\n",
    "#             data.append({\"filename\": filename, \"text\": f.read()})\n",
    "with open(folder_path, \"r\") as f:\n",
    "    for line in f:\n",
    "        data.append(json.loads(line))\n",
    "# Create a Hugging Face Dataset\n",
    "dataset = Dataset.from_list(data)\n",
    "\n"
   ]
  },
  {
   "cell_type": "code",
   "execution_count": 15,
   "metadata": {},
   "outputs": [
    {
     "data": {
      "text/plain": [
       "<AxesSubplot: >"
      ]
     },
     "execution_count": 15,
     "metadata": {},
     "output_type": "execute_result"
    },
    {
     "data": {
      "image/png": "[encoded data removed]",
      "text/plain": [
       "<Figure size 640x480 with 1 Axes>"
      ]
     },
     "metadata": {},
     "output_type": "display_data"
    }
   ],
   "source": [
    "dataset.to_pandas()['text'].apply(lambda x: len(x.split())).hist(bins=100)"
   ]
  },
  {
   "cell_type": "code",
   "execution_count": 16,
   "metadata": {},
   "outputs": [],
   "source": [
    "from transformers import AutoTokenizer\n",
    "# get the first 20000 examples\n",
    "# fset = dataset[\"train\"].select(range(12800))\n",
    "fset = dataset\n",
    "tokenizer = AutoTokenizer.from_pretrained('alehc/swissai-tokenizer')"
   ]
  },
  {
   "cell_type": "code",
   "execution_count": 17,
   "metadata": {},
   "outputs": [
    {
     "data": {
      "application/vnd.jupyter.widget-view+json": {
       "model_id": "b28e0f277a1e4b51bfb0626695743da5",
       "version_major": 2,
       "version_minor": 0
      },
      "text/plain": [
       "Map:   0%|          | 0/12800 [00:00<?, ? examples/s]"
      ]
     },
     "metadata": {},
     "output_type": "display_data"
    }
   ],
   "source": [
    "# from transformers import AutoTokenizer\n",
    "# # get the first 20000 examples\n",
    "# subset = dataset[\"train\"].select(range(12800))\n",
    "# tokenizer = AutoTokenizer.from_pretrained('alehc/swissai-tokenizer')\n",
    "\n",
    "def split_example(examples, input_size=pre_len, max_tokens=4096):\n",
    "    # text = example['text']\n",
    "    # tokens = tokenizer.tokenize(text)\n",
    "    # input = tokenizer.convert_tokens_to_string(tokens[:input_size])\n",
    "    # target = tokenizer.convert_tokens_to_string(tokens[input_size:max_tokens])\n",
    "    # return {'input_text': input, 'target_text': target}\n",
    "    input_texts = []\n",
    "    target_texts = []\n",
    "    \n",
    "    for i, text in enumerate(examples['text']):\n",
    "        tokens = tokenizer.tokenize(text)\n",
    "        input = tokenizer.convert_tokens_to_string(tokens[:input_size])\n",
    "        target = tokenizer.convert_tokens_to_string(tokens[input_size:max_tokens])\n",
    "        input_texts.append(input)\n",
    "        target_texts.append(target)\n",
    "    \n",
    "    return {'input_text': input_texts, 'target_text': target_texts}\n",
    "\n",
    "subset = fset.map(split_example, batched=True)\n"
   ]
  },
  {
   "cell_type": "code",
   "execution_count": 18,
   "metadata": {},
   "outputs": [
    {
     "data": {
      "application/vnd.jupyter.widget-view+json": {
       "model_id": "e95f9ebb85de44c0b5e80320e6317368",
       "version_major": 2,
       "version_minor": 0
      },
      "text/plain": [
       "Filter:   0%|          | 0/12800 [00:00<?, ? examples/s]"
      ]
     },
     "metadata": {},
     "output_type": "display_data"
    }
   ],
   "source": [
    "positive_examples = subset.filter(lambda example: len(example['target_text']) != 0)"
   ]
  },
  {
   "cell_type": "code",
   "execution_count": 19,
   "metadata": {},
   "outputs": [
    {
     "data": {
      "application/vnd.jupyter.widget-view+json": {
       "model_id": "4151d47bb5384c27b58f5fcedc78b55b",
       "version_major": 2,
       "version_minor": 0
      },
      "text/plain": [
       "Uploading the dataset shards:   0%|          | 0/1 [00:00<?, ?it/s]"
      ]
     },
     "metadata": {},
     "output_type": "display_data"
    },
    {
     "data": {
      "application/vnd.jupyter.widget-view+json": {
       "model_id": "a7d19f135de14a96ad0f33bc3dc3e027",
       "version_major": 2,
       "version_minor": 0
      },
      "text/plain": [
       "Creating parquet from Arrow format:   0%|          | 0/11 [00:00<?, ?ba/s]"
      ]
     },
     "metadata": {},
     "output_type": "display_data"
    },
    {
     "data": {
      "text/plain": [
       "CommitInfo(commit_url='https://huggingface.co/datasets/mansaripo/nytimes_2023_2024_verbatim_512/commit/08d751f60496be0d7d764422fd70036f0a81aad6', commit_message='Upload dataset', commit_description='', oid='08d751f60496be0d7d764422fd70036f0a81aad6', pr_url=None, repo_url=RepoUrl('https://huggingface.co/datasets/mansaripo/nytimes_2023_2024_verbatim_512', endpoint='https://huggingface.co', repo_type='dataset', repo_id='mansaripo/nytimes_2023_2024_verbatim_512'), pr_revision=None, pr_num=None)"
      ]
     },
     "execution_count": 19,
     "metadata": {},
     "output_type": "execute_result"
    }
   ],
   "source": [
    "# push the dataset to the hub\n",
    "from datasets import Dataset, DatasetDict\n",
    "\n",
    "HF_TOKEN=''\n",
    "from huggingface_hub import login\n",
    "login(HF_TOKEN)\n",
    "DatasetDict({'test': positive_examples}).push_to_hub(dataset_name)"
   ]
  },
  {
   "cell_type": "code",
   "execution_count": null,
   "metadata": {},
   "outputs": [],
   "source": []
  }
 ],
 "metadata": {
  "kernelspec": {
   "display_name": "robots",
   "language": "python",
   "name": "python3"
  },
  "language_info": {
   "codemirror_mode": {
    "name": "ipython",
    "version": 3
   },
   "file_extension": ".py",
   "mimetype": "text/x-python",
   "name": "python",
   "nbconvert_exporter": "python",
   "pygments_lexer": "ipython3",
   "version": "3.10.16"
  }
 },
 "nbformat": 4,
 "nbformat_minor": 2
}
